{
 "cells": [
  {
   "cell_type": "code",
   "execution_count": 1,
   "id": "91a64987-4312-4f41-9ca5-c003a496f271",
   "metadata": {},
   "outputs": [
    {
     "name": "stdout",
     "output_type": "stream",
     "text": [
      "Notebook exécuté dans VSCode.\n",
      "Répertoire racine du repo Git en local : c:\\Users\\Eddie\\DataScientest\\SEP24-MLOPS-SAKE\n"
     ]
    }
   ],
   "source": [
    "import os\n",
    "import ipynbname\n",
    "if 'VSCODE_PID' in os.environ:\n",
    "    print(\"Notebook exécuté dans VSCode.\")\n",
    "    repertoire_racine_git_local = (os.getcwd()).replace(\"\\\\notebooks\", \"\")\n",
    "else:\n",
    "    print(\"Notebook exécuté dans Jupyter Notebook/JupyterLab.\")\n",
    "    #notebook_filename = ipynbname.name() # récupération le nom du fichier du notebook\n",
    "    notebook_filepath = ipynbname.path() # récupération du chemin complet du notebook\n",
    "    # Remplacement des backslashes par des slashes, et remontée d'un niveau avec \\\"/../\\\"\n",
    "    repertoire_racine_git_local = (os.path.dirname(notebook_filepath).replace(\"\\\\notebooks\", \"\").replace('\\\\', '/'))\n",
    "    \n",
    "print(\"Répertoire racine du repo Git en local :\", repertoire_racine_git_local)"
   ]
  },
  {
   "cell_type": "code",
   "execution_count": 2,
   "id": "d384f8d5-9563-4d31-8066-e60f9df6f455",
   "metadata": {},
   "outputs": [],
   "source": [
    "# pour permettre les imports de package depuis \"steps.xxx\" (pour les notebooks Jupyter ou VS Code)\n",
    "import sys\n",
    "sys.path.append(repertoire_racine_git_local) "
   ]
  },
  {
   "cell_type": "code",
   "execution_count": 2,
   "id": "e7f69b78-faeb-457d-9730-d2b1be41837d",
   "metadata": {},
   "outputs": [
    {
     "name": "stdout",
     "output_type": "stream",
     "text": [
      "Channels:\n",
      " - defaults\n",
      " - conda-forge\n",
      "Platform: win-64\n",
      "Collecting package metadata (repodata.json): ...working... done\n",
      "Solving environment: ...working... done\n",
      "\n",
      "# All requested packages already installed.\n",
      "\n"
     ]
    }
   ],
   "source": [
    "!conda install fastparquet --yes"
   ]
  },
  {
   "cell_type": "code",
   "execution_count": 10,
   "id": "7d8975ac-8f6e-42d5-853f-51b5e30f5040",
   "metadata": {},
   "outputs": [
    {
     "name": "stdout",
     "output_type": "stream",
     "text": [
      "Channels:\n",
      " - defaults\n",
      " - conda-forge\n",
      "Platform: win-64\n",
      "Collecting package metadata (repodata.json): ...working... done\n",
      "Solving environment: ...working... done\n",
      "\n",
      "# All requested packages already installed.\n",
      "\n"
     ]
    }
   ],
   "source": [
    "!conda install huggingface_hub --yes"
   ]
  },
  {
   "cell_type": "code",
   "execution_count": 6,
   "id": "1245fb93-da8c-4e85-a009-9d43c43fa307",
   "metadata": {},
   "outputs": [],
   "source": [
    "import pandas as pd"
   ]
  },
  {
   "cell_type": "code",
   "execution_count": 7,
   "id": "c3f7084a-f7f1-4849-82ad-70b8ec724a9f",
   "metadata": {},
   "outputs": [],
   "source": [
    "splits = {'train': 'data/train-00000-of-00001-a5c51039eab2980a.parquet', \n",
    "          'validation': 'data/validation-00000-of-00001-b8a5c4a6237baf25.parquet', \n",
    "          'test': 'data/test-00000-of-00001-56af6bd5ff7eb34d.parquet'}\n",
    "df = pd.read_parquet(\"hf://datasets/katanaml-org/invoices-donut-data-v1/\" + splits[\"train\"])"
   ]
  },
  {
   "cell_type": "code",
   "execution_count": 8,
   "id": "06724c65-70f1-4a46-8ca9-3af0ccaa366a",
   "metadata": {},
   "outputs": [
    {
     "data": {
      "text/html": [
       "<div>\n",
       "<style scoped>\n",
       "    .dataframe tbody tr th:only-of-type {\n",
       "        vertical-align: middle;\n",
       "    }\n",
       "\n",
       "    .dataframe tbody tr th {\n",
       "        vertical-align: top;\n",
       "    }\n",
       "\n",
       "    .dataframe thead th {\n",
       "        text-align: right;\n",
       "    }\n",
       "</style>\n",
       "<table border=\"1\" class=\"dataframe\">\n",
       "  <thead>\n",
       "    <tr style=\"text-align: right;\">\n",
       "      <th></th>\n",
       "      <th>ground_truth</th>\n",
       "      <th>image.bytes</th>\n",
       "      <th>image.path</th>\n",
       "    </tr>\n",
       "  </thead>\n",
       "  <tbody>\n",
       "    <tr>\n",
       "      <th>0</th>\n",
       "      <td>{\"gt_parse\": {\"header\": {\"invoice_no\": \"403781...</td>\n",
       "      <td>b'\\xff\\xd8\\xff\\xe0\\x00\\x10JFIF\\x00\\x01\\x01\\x00...</td>\n",
       "      <td>invoice_0.jpg</td>\n",
       "    </tr>\n",
       "    <tr>\n",
       "      <th>1</th>\n",
       "      <td>{\"gt_parse\": {\"header\": {\"invoice_no\": \"613562...</td>\n",
       "      <td>b'\\xff\\xd8\\xff\\xe0\\x00\\x10JFIF\\x00\\x01\\x01\\x00...</td>\n",
       "      <td>invoice_1.jpg</td>\n",
       "    </tr>\n",
       "    <tr>\n",
       "      <th>2</th>\n",
       "      <td>{\"gt_parse\": {\"header\": {\"invoice_no\": \"495650...</td>\n",
       "      <td>b'\\xff\\xd8\\xff\\xe0\\x00\\x10JFIF\\x00\\x01\\x01\\x00...</td>\n",
       "      <td>invoice_10.jpg</td>\n",
       "    </tr>\n",
       "    <tr>\n",
       "      <th>3</th>\n",
       "      <td>{\"gt_parse\": {\"header\": {\"invoice_no\": \"956116...</td>\n",
       "      <td>b'\\xff\\xd8\\xff\\xe0\\x00\\x10JFIF\\x00\\x01\\x01\\x00...</td>\n",
       "      <td>invoice_100.jpg</td>\n",
       "    </tr>\n",
       "    <tr>\n",
       "      <th>4</th>\n",
       "      <td>{\"gt_parse\": {\"header\": {\"invoice_no\": \"260200...</td>\n",
       "      <td>b'\\xff\\xd8\\xff\\xe0\\x00\\x10JFIF\\x00\\x01\\x01\\x00...</td>\n",
       "      <td>invoice_101.jpg</td>\n",
       "    </tr>\n",
       "  </tbody>\n",
       "</table>\n",
       "</div>"
      ],
      "text/plain": [
       "                                        ground_truth  \\\n",
       "0  {\"gt_parse\": {\"header\": {\"invoice_no\": \"403781...   \n",
       "1  {\"gt_parse\": {\"header\": {\"invoice_no\": \"613562...   \n",
       "2  {\"gt_parse\": {\"header\": {\"invoice_no\": \"495650...   \n",
       "3  {\"gt_parse\": {\"header\": {\"invoice_no\": \"956116...   \n",
       "4  {\"gt_parse\": {\"header\": {\"invoice_no\": \"260200...   \n",
       "\n",
       "                                         image.bytes       image.path  \n",
       "0  b'\\xff\\xd8\\xff\\xe0\\x00\\x10JFIF\\x00\\x01\\x01\\x00...    invoice_0.jpg  \n",
       "1  b'\\xff\\xd8\\xff\\xe0\\x00\\x10JFIF\\x00\\x01\\x01\\x00...    invoice_1.jpg  \n",
       "2  b'\\xff\\xd8\\xff\\xe0\\x00\\x10JFIF\\x00\\x01\\x01\\x00...   invoice_10.jpg  \n",
       "3  b'\\xff\\xd8\\xff\\xe0\\x00\\x10JFIF\\x00\\x01\\x01\\x00...  invoice_100.jpg  \n",
       "4  b'\\xff\\xd8\\xff\\xe0\\x00\\x10JFIF\\x00\\x01\\x01\\x00...  invoice_101.jpg  "
      ]
     },
     "execution_count": 8,
     "metadata": {},
     "output_type": "execute_result"
    }
   ],
   "source": [
    "df.head()"
   ]
  },
  {
   "cell_type": "code",
   "execution_count": 9,
   "id": "2751e01f-4e82-4d13-80d6-9f8bebe14ee6",
   "metadata": {},
   "outputs": [
    {
     "data": {
      "text/html": [
       "<div>\n",
       "<style scoped>\n",
       "    .dataframe tbody tr th:only-of-type {\n",
       "        vertical-align: middle;\n",
       "    }\n",
       "\n",
       "    .dataframe tbody tr th {\n",
       "        vertical-align: top;\n",
       "    }\n",
       "\n",
       "    .dataframe thead th {\n",
       "        text-align: right;\n",
       "    }\n",
       "</style>\n",
       "<table border=\"1\" class=\"dataframe\">\n",
       "  <thead>\n",
       "    <tr style=\"text-align: right;\">\n",
       "      <th></th>\n",
       "      <th>ground_truth</th>\n",
       "      <th>image.bytes</th>\n",
       "      <th>image.path</th>\n",
       "    </tr>\n",
       "  </thead>\n",
       "  <tbody>\n",
       "    <tr>\n",
       "      <th>0</th>\n",
       "      <td>{\"gt_parse\": {\"header\": {\"invoice_no\": \"403781...</td>\n",
       "      <td>b'\\xff\\xd8\\xff\\xe0\\x00\\x10JFIF\\x00\\x01\\x01\\x00...</td>\n",
       "      <td>invoice_0.jpg</td>\n",
       "    </tr>\n",
       "    <tr>\n",
       "      <th>1</th>\n",
       "      <td>{\"gt_parse\": {\"header\": {\"invoice_no\": \"613562...</td>\n",
       "      <td>b'\\xff\\xd8\\xff\\xe0\\x00\\x10JFIF\\x00\\x01\\x01\\x00...</td>\n",
       "      <td>invoice_1.jpg</td>\n",
       "    </tr>\n",
       "    <tr>\n",
       "      <th>2</th>\n",
       "      <td>{\"gt_parse\": {\"header\": {\"invoice_no\": \"495650...</td>\n",
       "      <td>b'\\xff\\xd8\\xff\\xe0\\x00\\x10JFIF\\x00\\x01\\x01\\x00...</td>\n",
       "      <td>invoice_10.jpg</td>\n",
       "    </tr>\n",
       "    <tr>\n",
       "      <th>3</th>\n",
       "      <td>{\"gt_parse\": {\"header\": {\"invoice_no\": \"956116...</td>\n",
       "      <td>b'\\xff\\xd8\\xff\\xe0\\x00\\x10JFIF\\x00\\x01\\x01\\x00...</td>\n",
       "      <td>invoice_100.jpg</td>\n",
       "    </tr>\n",
       "    <tr>\n",
       "      <th>4</th>\n",
       "      <td>{\"gt_parse\": {\"header\": {\"invoice_no\": \"260200...</td>\n",
       "      <td>b'\\xff\\xd8\\xff\\xe0\\x00\\x10JFIF\\x00\\x01\\x01\\x00...</td>\n",
       "      <td>invoice_101.jpg</td>\n",
       "    </tr>\n",
       "    <tr>\n",
       "      <th>...</th>\n",
       "      <td>...</td>\n",
       "      <td>...</td>\n",
       "      <td>...</td>\n",
       "    </tr>\n",
       "    <tr>\n",
       "      <th>420</th>\n",
       "      <td>{\"gt_parse\": {\"header\": {\"invoice_no\": \"224349...</td>\n",
       "      <td>b'\\xff\\xd8\\xff\\xe0\\x00\\x10JFIF\\x00\\x01\\x01\\x00...</td>\n",
       "      <td>invoice_94.jpg</td>\n",
       "    </tr>\n",
       "    <tr>\n",
       "      <th>421</th>\n",
       "      <td>{\"gt_parse\": {\"header\": {\"invoice_no\": \"642911...</td>\n",
       "      <td>b'\\xff\\xd8\\xff\\xe0\\x00\\x10JFIF\\x00\\x01\\x01\\x00...</td>\n",
       "      <td>invoice_95.jpg</td>\n",
       "    </tr>\n",
       "    <tr>\n",
       "      <th>422</th>\n",
       "      <td>{\"gt_parse\": {\"header\": {\"invoice_no\": \"787855...</td>\n",
       "      <td>b'\\xff\\xd8\\xff\\xe0\\x00\\x10JFIF\\x00\\x01\\x01\\x00...</td>\n",
       "      <td>invoice_97.jpg</td>\n",
       "    </tr>\n",
       "    <tr>\n",
       "      <th>423</th>\n",
       "      <td>{\"gt_parse\": {\"header\": {\"invoice_no\": \"664308...</td>\n",
       "      <td>b'\\xff\\xd8\\xff\\xe0\\x00\\x10JFIF\\x00\\x01\\x01\\x00...</td>\n",
       "      <td>invoice_98.jpg</td>\n",
       "    </tr>\n",
       "    <tr>\n",
       "      <th>424</th>\n",
       "      <td>{\"gt_parse\": {\"header\": {\"invoice_no\": \"949144...</td>\n",
       "      <td>b'\\xff\\xd8\\xff\\xe0\\x00\\x10JFIF\\x00\\x01\\x01\\x00...</td>\n",
       "      <td>invoice_99.jpg</td>\n",
       "    </tr>\n",
       "  </tbody>\n",
       "</table>\n",
       "<p>425 rows × 3 columns</p>\n",
       "</div>"
      ],
      "text/plain": [
       "                                          ground_truth  \\\n",
       "0    {\"gt_parse\": {\"header\": {\"invoice_no\": \"403781...   \n",
       "1    {\"gt_parse\": {\"header\": {\"invoice_no\": \"613562...   \n",
       "2    {\"gt_parse\": {\"header\": {\"invoice_no\": \"495650...   \n",
       "3    {\"gt_parse\": {\"header\": {\"invoice_no\": \"956116...   \n",
       "4    {\"gt_parse\": {\"header\": {\"invoice_no\": \"260200...   \n",
       "..                                                 ...   \n",
       "420  {\"gt_parse\": {\"header\": {\"invoice_no\": \"224349...   \n",
       "421  {\"gt_parse\": {\"header\": {\"invoice_no\": \"642911...   \n",
       "422  {\"gt_parse\": {\"header\": {\"invoice_no\": \"787855...   \n",
       "423  {\"gt_parse\": {\"header\": {\"invoice_no\": \"664308...   \n",
       "424  {\"gt_parse\": {\"header\": {\"invoice_no\": \"949144...   \n",
       "\n",
       "                                           image.bytes       image.path  \n",
       "0    b'\\xff\\xd8\\xff\\xe0\\x00\\x10JFIF\\x00\\x01\\x01\\x00...    invoice_0.jpg  \n",
       "1    b'\\xff\\xd8\\xff\\xe0\\x00\\x10JFIF\\x00\\x01\\x01\\x00...    invoice_1.jpg  \n",
       "2    b'\\xff\\xd8\\xff\\xe0\\x00\\x10JFIF\\x00\\x01\\x01\\x00...   invoice_10.jpg  \n",
       "3    b'\\xff\\xd8\\xff\\xe0\\x00\\x10JFIF\\x00\\x01\\x01\\x00...  invoice_100.jpg  \n",
       "4    b'\\xff\\xd8\\xff\\xe0\\x00\\x10JFIF\\x00\\x01\\x01\\x00...  invoice_101.jpg  \n",
       "..                                                 ...              ...  \n",
       "420  b'\\xff\\xd8\\xff\\xe0\\x00\\x10JFIF\\x00\\x01\\x01\\x00...   invoice_94.jpg  \n",
       "421  b'\\xff\\xd8\\xff\\xe0\\x00\\x10JFIF\\x00\\x01\\x01\\x00...   invoice_95.jpg  \n",
       "422  b'\\xff\\xd8\\xff\\xe0\\x00\\x10JFIF\\x00\\x01\\x01\\x00...   invoice_97.jpg  \n",
       "423  b'\\xff\\xd8\\xff\\xe0\\x00\\x10JFIF\\x00\\x01\\x01\\x00...   invoice_98.jpg  \n",
       "424  b'\\xff\\xd8\\xff\\xe0\\x00\\x10JFIF\\x00\\x01\\x01\\x00...   invoice_99.jpg  \n",
       "\n",
       "[425 rows x 3 columns]"
      ]
     },
     "execution_count": 9,
     "metadata": {},
     "output_type": "execute_result"
    }
   ],
   "source": [
    "df"
   ]
  },
  {
   "cell_type": "code",
   "execution_count": null,
   "id": "61cb5bdf-9f18-4c8f-8553-395c324357e8",
   "metadata": {},
   "outputs": [],
   "source": []
  }
 ],
 "metadata": {
  "kernelspec": {
   "display_name": "env_mlops",
   "language": "python",
   "name": "python3"
  },
  "language_info": {
   "codemirror_mode": {
    "name": "ipython",
    "version": 3
   },
   "file_extension": ".py",
   "mimetype": "text/x-python",
   "name": "python",
   "nbconvert_exporter": "python",
   "pygments_lexer": "ipython3",
   "version": "3.11.10"
  }
 },
 "nbformat": 4,
 "nbformat_minor": 5
}
