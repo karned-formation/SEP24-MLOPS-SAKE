{
 "cells": [
  {
   "cell_type": "code",
   "execution_count": 1,
   "metadata": {},
   "outputs": [
    {
     "name": "stdout",
     "output_type": "stream",
     "text": [
      "Notebook exécuté dans VSCode.\n",
      "Répertoire racine du repo Git en local : z:\\home\\ejaffuel\\SEP24-MLOPS-SAKE_Linux\n"
     ]
    }
   ],
   "source": [
    "import os\n",
    "import ipynbname\n",
    "if 'VSCODE_PID' in os.environ:\n",
    "    print(\"Notebook exécuté dans VSCode.\")\n",
    "    repertoire_racine_git_local = (os.getcwd()).replace(\"\\\\notebooks\", \"\")\n",
    "else:\n",
    "    print(\"Notebook exécuté dans Jupyter Notebook/JupyterLab.\")\n",
    "    #notebook_filename = ipynbname.name() # récupération le nom du fichier du notebook\n",
    "    notebook_filepath = ipynbname.path() # récupération du chemin complet du notebook\n",
    "    # Remplacement des backslashes par des slashes, et remontée d'un niveau avec \\\"/../\\\"\n",
    "    repertoire_racine_git_local = (os.path.dirname(notebook_filepath).replace(\"\\\\notebooks\", \"\").replace('\\\\', '/'))\n",
    "    \n",
    "print(\"Répertoire racine du repo Git en local :\", repertoire_racine_git_local)"
   ]
  },
  {
   "cell_type": "code",
   "execution_count": 2,
   "metadata": {},
   "outputs": [],
   "source": [
    "# pour permettre les imports de package depuis \"steps.xxx\" (pour les notebooks Jupyter ou VS Code)\n",
    "import sys\n",
    "sys.path.append(repertoire_racine_git_local) "
   ]
  },
  {
   "cell_type": "code",
   "execution_count": 3,
   "metadata": {},
   "outputs": [],
   "source": [
    "# Import des librairies\n",
    "import requests\n",
    "import pandas as pd\n",
    "import numpy as np\n",
    "import os\n",
    "from typing import List\n",
    "from steps.ingest import get_full_text, get_new_images_to_ocerize, get_processed_dataset, save_text_to_file\n",
    "ocr_endpoint = \"http://localhost:8901/txt/blocks-words\" # url de l'OCR\n",
    "data_path = repertoire_racine_git_local + \"/data/\" # chemin du dossier data"
   ]
  },
  {
   "cell_type": "code",
   "execution_count": 4,
   "metadata": {},
   "outputs": [
    {
     "name": "stdout",
     "output_type": "stream",
     "text": [
      "FACTURE\n",
      "LOGO\n",
      "Joanna Binet 48 Coubertin 31400 Paris FACTURÉ À Cendrillon Ayot 69 rue Nations 22000 Paris\n",
      "ENVOYÉA Cendrillon Ayot 46 Rue St Ferréol 92360 ile-de-France\n",
      "FACTURE No DATE COMMANDE N ÉCHÉANCE PRIX UNIT. HT 100.00 15.00 5.00 Total HT TVA 20.0% TOTAL\n",
      "FR-001 29/01/2019 1630/2019 24/05/2019 MONTANT HT 100.00 30.00 15.00 145.00 29.00 174.00 e\n",
      "QTÉ 1 2 3\n",
      "DÉSIGNATION\n",
      "Grand brun escargot pour manger Petit marinière uniforme en bleu Facile à jouer accordéon\n",
      "- - - M -\n",
      "CONDITIONS ET MODALITÉS DE PAIEMENT Le paiement est do dans 15 jours Caisse d'Epargne IBAN: FR12 1234 5678 SWIFT/BIC: ABCDFRP1XXX\n",
      "Mlesci\n"
     ]
    }
   ],
   "source": [
    "# Appel à l'OCR (TEST)\n",
    "test_image_path = repertoire_racine_git_local + \"/data/raw/final/img_0000000.jpg\" \n",
    "result = get_full_text(test_image_path, ocr_endpoint)\n",
    "print(result)"
   ]
  },
  {
   "cell_type": "code",
   "execution_count": 5,
   "metadata": {},
   "outputs": [
    {
     "name": "stdout",
     "output_type": "stream",
     "text": [
      "http://localhost:8903/clean\n"
     ]
    },
    {
     "data": {
      "text/plain": [
       "'factur logo joanna binet 48 coubertin 31400 pari facturer cendrillon ayot 69 rue nation 22000 envoyéa 46 st ferréol 92360 ile-de-france no date command échéance prix unir ht 100.00 15.00 5.00 total tva 20.0 fr-001 29/01/2019 1630/2019 24/05/2019 montant 30.00 145.00 29.00 174.00 qté désignation grand brun escargot manger petit marinier uniforme bleu facile jouer accordéon condition modalité paiement do 15 jour caisse epargne iban fr12 1234 5678 swift / bic abcdfrp1xx mlesci'"
      ]
     },
     "execution_count": 5,
     "metadata": {},
     "output_type": "execute_result"
    }
   ],
   "source": [
    "# Appel au clean\n",
    "clean_url = \"http://localhost:8903/clean\" # url du cleaner/tokenizer\n",
    "def get_cleaned_text(text) -> str:\n",
    "    print(clean_url)\n",
    "    headers = {'Content-Type': 'text/plain'}\n",
    "    params = {\n",
    "        \"text\": text\n",
    "    }\n",
    "    response = requests.post(clean_url, params=params, headers=headers)\n",
    "    return response\n",
    "get_cleaned_text(result).text"
   ]
  },
  {
   "cell_type": "code",
   "execution_count": 6,
   "metadata": {},
   "outputs": [],
   "source": [
    "# TEST INGEST EN MASSE\n",
    "path_to_dataset = f\"{data_path}/processed/processed_dataset.csv\"\n",
    "raw_dataset = pd.read_csv(f\"{data_path}working_dataset.csv\")\n",
    "processed_dataset = get_processed_dataset(path_to_dataset)\n",
    "\n",
    "new_images = get_new_images_to_ocerize(raw_dataset, processed_dataset)\n",
    "\n",
    "for _, row in new_images.iterrows():                                               # TODO : Attention j'ai mis head(10) pour tester, à enlever\n",
    "    full_text = get_full_text(f\"{data_path}raw/final/{row.filename}\", ocr_endpoint)\n",
    "\n",
    "    text_file_path = f\"{data_path}/processed/{row.filename}.txt\"\n",
    "    save_text_to_file(full_text, text_file_path)\n",
    "    new_images.loc[new_images['filename']==row.filename, 'full_text'] = text_file_path \n",
    "\n",
    "processed_dataset = pd.concat([processed_dataset, new_images],ignore_index=True)   # TODO : Attention j'ai mis head(10) pour tester, à enlever\n",
    "processed_dataset.to_csv(path_to_dataset, index=None)"
   ]
  },
  {
   "cell_type": "code",
   "execution_count": null,
   "metadata": {},
   "outputs": [],
   "source": []
  }
 ],
 "metadata": {
  "kernelspec": {
   "display_name": "env_mlops",
   "language": "python",
   "name": "env_mlops"
  },
  "language_info": {
   "codemirror_mode": {
    "name": "ipython",
    "version": 3
   },
   "file_extension": ".py",
   "mimetype": "text/x-python",
   "name": "python",
   "nbconvert_exporter": "python",
   "pygments_lexer": "ipython3",
   "version": "3.11.10"
  }
 },
 "nbformat": 4,
 "nbformat_minor": 4
}
