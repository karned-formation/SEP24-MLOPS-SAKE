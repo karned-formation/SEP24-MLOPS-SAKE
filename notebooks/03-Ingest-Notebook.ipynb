{
 "cells": [
  {
   "cell_type": "code",
   "execution_count": 28,
   "metadata": {},
   "outputs": [],
   "source": [
    "import requests\n",
    "api_url = \"http://localhost:8901/txt/blocks-words\" # url de l'OCR\n",
    "test_image_path = \"../data/raw/facture_test.png\""
   ]
  },
  {
   "cell_type": "code",
   "execution_count": 29,
   "metadata": {},
   "outputs": [],
   "source": [
    "def get_text(image) -> str:\n",
    "    with open(image, \"rb\") as file:\n",
    "        files = {\"file\": file}\n",
    "        response = requests.post(api_url, files=files)\n",
    "        return response"
   ]
  },
  {
   "cell_type": "code",
   "execution_count": 30,
   "metadata": {},
   "outputs": [
    {
     "name": "stdout",
     "output_type": "stream",
     "text": [
      "<Response [200]>\n"
     ]
    }
   ],
   "source": [
    "result = get_text(test_image_path)\n",
    "print(result)"
   ]
  },
  {
   "cell_type": "code",
   "execution_count": 69,
   "metadata": {},
   "outputs": [],
   "source": [
    "clean_url = \"http://localhost:8903/clean\" # url du cleaner/tokenizer\n",
    "def get_cleaned_text(text) -> str:\n",
    "    print(clean_url)\n",
    "    headers = {'Content-Type': 'text/plain'}\n",
    "    params = {\n",
    "        \"text\": text\n",
    "    }\n",
    "    response = requests.post(clean_url, params=params, headers=headers)\n",
    "    return response"
   ]
  },
  {
   "cell_type": "code",
   "execution_count": 71,
   "metadata": {},
   "outputs": [
    {
     "name": "stdout",
     "output_type": "stream",
     "text": [
      "http://localhost:8903/clean\n"
     ]
    },
    {
     "data": {
      "text/plain": [
       "\"factur logo vendeur entreprise 22 avenue voltair 13000 marseill michel acheteur 31 rue forêt 13100 alx-en-provenc client date facturation numéro facture échéance paiemer 30 jour référence 1436 2.6.2021 143 16.6.2021 information additionnalle service vente garantie an description main - oeuvre produire quantité 10 unité pc prix unitaire ht tva total ttc 00,00 105,00 20 210,00 300,00 260,00 350,00 270,00 620,00 voitare marselll '' siren siret 24567 intrer frxx 999999999 onordtinnnéer pieme fomiseer telephone 99 e-mall pemegmacompagnien wwww macompagnie com petalle bancairen anbueg ban bic sur swi np pariba fr23 4112 4098 23 00hcs\""
      ]
     },
     "execution_count": 71,
     "metadata": {},
     "output_type": "execute_result"
    }
   ],
   "source": [
    "get_cleaned_text(result.text).text"
   ]
  },
  {
   "cell_type": "code",
   "execution_count": 60,
   "metadata": {},
   "outputs": [
    {
     "name": "stdout",
     "output_type": "stream",
     "text": [
      "http://localhost:8903/clean\n"
     ]
    }
   ],
   "source": [
    "print(clean_url)"
   ]
  },
  {
   "cell_type": "code",
   "execution_count": null,
   "metadata": {},
   "outputs": [],
   "source": []
  }
 ],
 "metadata": {
  "kernelspec": {
   "display_name": "env_mlop",
   "language": "python",
   "name": "python3"
  },
  "language_info": {
   "codemirror_mode": {
    "name": "ipython",
    "version": 3
   },
   "file_extension": ".py",
   "mimetype": "text/x-python",
   "name": "python",
   "nbconvert_exporter": "python",
   "pygments_lexer": "ipython3",
   "version": "3.11.10"
  }
 },
 "nbformat": 4,
 "nbformat_minor": 2
}
