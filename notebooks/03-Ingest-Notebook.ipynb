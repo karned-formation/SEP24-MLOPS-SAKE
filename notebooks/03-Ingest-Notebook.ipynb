{
 "cells": [
  {
   "cell_type": "code",
   "execution_count": 5,
   "metadata": {},
   "outputs": [],
   "source": [
    "# Import des librairies\n",
    "import requests\n",
    "import pandas as pd\n",
    "import numpy as np\n",
    "import os\n",
    "from typing import List\n",
    "from steps.ingest import get_full_text, get_new_images_to_ocerize, get_processed_dataset, save_text_to_file\n",
    "ocr_endpoint = \"http://localhost:8901/txt/blocks-words\" # url de l'OCR\n",
    "data_path = \"../data/\" # chemin du dossier data"
   ]
  },
  {
   "cell_type": "code",
   "execution_count": 9,
   "metadata": {},
   "outputs": [
    {
     "name": "stdout",
     "output_type": "stream",
     "text": [
      "Facture\n",
      "Logo\n",
      "Vendeur\n",
      "Mon Entreprise 22, Avenue Voltaire 13000 Marseille Michel Acheteur 31, rue de la Forêt 13100 Alx-en-Provencs\n",
      "Client\n",
      "Date de facturation Numéro de facture Échéance\n",
      "Paiement 30 jours\n",
      "Référence 1436\n",
      "2.6.2021\n",
      "143\n",
      "16.6.2021\n",
      "Informations additionnalles : Service Après Vente : Garantie 1 an.\n",
      "Description Main-d'oeuvre Produit\n",
      "Quantité 5 10\n",
      "Unité h pcs\n",
      "Prix unitaire HT % TVA\n",
      "Total TVA Total TTC\n",
      "00,00  105,00 €\n",
      "20 % 20 %\n",
      "00,00 € 210,00 € Total HT Total TVA Total TTC\n",
      "300,00 € 1 260,00 € 1 350,00 € 270,00 € 1 620,00 €\n",
      "Mon Entreprise 22, Avenue Voitare 13000 Marsellle N\" Siren ou Siret 24567 N TVA intra - FRXX 999999999\n",
      "onordtinnnéas Pieme Fomisees Telephone 2 4 6 & & 99 E-mall Pemegmacompagnien WwWW macompagnie. com\n",
      "petalle bancairen anbueg BAN BIC/SwI\n",
      "NP Paribas FR23 4112 4098 4098 23 00HCs\n"
     ]
    }
   ],
   "source": [
    "# Appel à l'OCR (TEST)\n",
    "test_image_path = \"../data/raw/final/facture_test.png\" \n",
    "result = get_full_text(test_image_path)\n",
    "print(result)"
   ]
  },
  {
   "cell_type": "code",
   "execution_count": 21,
   "metadata": {},
   "outputs": [
    {
     "name": "stdout",
     "output_type": "stream",
     "text": [
      "http://localhost:8903/clean\n"
     ]
    },
    {
     "data": {
      "text/plain": [
       "\"factur logo vendeur entreprise 22 avenue voltair 13000 marseill michel acheteur 31 rue forêt 13100 alx-en-provenc client date facturation numéro facture échéance paiemer 30 jour référence 1436 2.6.2021 143 16.6.2021 information additionnalle service vente garantie an description main - oeuvre produire quantité 10 unité pc prix unitaire ht tva total ttc 00,00 105,00 20 210,00 300,00 260,00 350,00 270,00 620,00 voitare marselll '' siren siret 24567 intrer frxx 999999999 onordtinnnéer pieme fomiseer telephone 99 e-mall pemegmacompagnien wwww macompagnie com petalle bancairen anbueg ban bic sur swi np pariba fr23 4112 4098 23 00hcs\""
      ]
     },
     "execution_count": 21,
     "metadata": {},
     "output_type": "execute_result"
    }
   ],
   "source": [
    "# Appel au clean\n",
    "clean_url = \"http://localhost:8903/clean\" # url du cleaner/tokenizer\n",
    "def get_cleaned_text(text) -> str:\n",
    "    print(clean_url)\n",
    "    headers = {'Content-Type': 'text/plain'}\n",
    "    params = {\n",
    "        \"text\": text\n",
    "    }\n",
    "    response = requests.post(clean_url, params=params, headers=headers)\n",
    "    return response\n",
    "get_cleaned_text(result).text"
   ]
  },
  {
   "cell_type": "code",
   "execution_count": 22,
   "metadata": {},
   "outputs": [
    {
     "name": "stderr",
     "output_type": "stream",
     "text": [
      "/tmp/ipykernel_34710/3157561810.py:13: SettingWithCopyWarning: \n",
      "A value is trying to be set on a copy of a slice from a DataFrame.\n",
      "Try using .loc[row_indexer,col_indexer] = value instead\n",
      "\n",
      "See the caveats in the documentation: https://pandas.pydata.org/pandas-docs/stable/user_guide/indexing.html#returning-a-view-versus-a-copy\n",
      "  new_images.loc[new_images['filename']==row.filename, 'full_text'] = text_file_path\n"
     ]
    }
   ],
   "source": [
    "# TEST INGEST EN MASSE\n",
    "path_to_dataset = f\"{data_path}/processed/processed_dataset.csv\"\n",
    "raw_dataset = pd.read_csv(f\"{data_path}dataset.csv\")\n",
    "processed_dataset = get_processed_dataset(path_to_dataset)\n",
    "\n",
    "new_images = get_new_images_to_ocerize(raw_dataset, processed_dataset)\n",
    "\n",
    "for _, row in new_images.head(10).iterrows():                                               # TODO : Attention j'ai mis head(10) pour tester, à enlever\n",
    "    full_text = get_full_text(f\"{data_path}raw/final/{row.filename}\")\n",
    "\n",
    "    text_file_path = f\"{data_path}/processed/{row.filename}.txt\"\n",
    "    save_text_to_file(full_text, text_file_path)\n",
    "    new_images.loc[new_images['filename']==row.filename, 'full_text'] = text_file_path \n",
    "\n",
    "processed_dataset = pd.concat([processed_dataset, new_images.head(10)],ignore_index=True)   # TODO : Attention j'ai mis head(10) pour tester, à enlever\n",
    "processed_dataset.to_csv(path_to_dataset, index=None)"
   ]
  },
  {
   "cell_type": "code",
   "execution_count": null,
   "metadata": {},
   "outputs": [],
   "source": []
  }
 ],
 "metadata": {
  "kernelspec": {
   "display_name": "env_mlops",
   "language": "python",
   "name": "python3"
  },
  "language_info": {
   "codemirror_mode": {
    "name": "ipython",
    "version": 3
   },
   "file_extension": ".py",
   "mimetype": "text/x-python",
   "name": "python",
   "nbconvert_exporter": "python",
   "pygments_lexer": "ipython3",
   "version": "3.11.10"
  }
 },
 "nbformat": 4,
 "nbformat_minor": 2
}
