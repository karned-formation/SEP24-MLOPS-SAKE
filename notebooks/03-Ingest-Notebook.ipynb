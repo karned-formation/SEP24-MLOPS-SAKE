{
 "cells": [
  {
   "cell_type": "code",
   "execution_count": 80,
   "metadata": {},
   "outputs": [],
   "source": [
    "import requests\n",
    "import pandas as pd\n",
    "import numpy as np\n",
    "import os\n",
    "from typing import List\n",
    "ocr_endpoint = \"http://localhost:8901/txt/blocks-words\" # url de l'OCR\n",
    "test_image_path = \"../data/raw/facture_test.png\" \n",
    "data_path = \"../data/\" # chemin du dossier data"
   ]
  },
  {
   "cell_type": "code",
   "execution_count": 81,
   "metadata": {},
   "outputs": [],
   "source": [
    "def get_full_text(image: str) -> str:\n",
    "    \"\"\"Envoi une image à l'API d'océrisation et retourne le texte.\"\"\"\n",
    "    with open(image, \"rb\") as file:\n",
    "        files = {\"file\": file}\n",
    "        response = requests.post(ocr_endpoint, files=files)\n",
    "        return response.text\n",
    "\n",
    "\n",
    "def get_processed_dataset(path_to_dataset: str) -> pd.DataFrame:\n",
    "    \"\"\"Récupère ou crée le dataset contenant le texte océrisé\"\"\"\n",
    "    \n",
    "    if os.path.isfile(path_to_dataset):\n",
    "        processed_dataset = pd.read_csv(path_to_dataset)\n",
    "    else:\n",
    "        processed_dataset = pd.DataFrame(columns=['filename','new_type','original_type','motif_rejet','true_cat','inclusion_dataset','excluded_types','grouped_type', 'full_text', 'cleaned_text'], dtype=\"object\")\n",
    "        processed_dataset.to_csv(path_to_dataset, index=None)\n",
    "    return processed_dataset\n",
    "\n",
    "\n",
    "def get_new_images_to_ocerize(raw_dataset: pd.DataFrame, processed_dataset: pd.DataFrame) -> List[str]:\n",
    "    \"\"\"Compare les deux fichiers et renvoi seulement les images qui ne sont pas déjà océrisées.\"\"\"\n",
    "    \n",
    "    filenames = np.setdiff1d(raw_dataset[\"filename\"].values, processed_dataset[\"filename\"].values)\n",
    "\n",
    "    return raw_dataset[raw_dataset[\"filename\"].isin(filenames)]\n",
    "\n",
    "def save_text_to_file(text:str, path: str):\n",
    "    \"\"\"Enregistre le texte océrisé dans un fichier .txt\"\"\"\n",
    "    with open(path, \"w\") as txt_file:\n",
    "        txt_file.write(text)\n"
   ]
  },
  {
   "cell_type": "code",
   "execution_count": 82,
   "metadata": {},
   "outputs": [
    {
     "name": "stderr",
     "output_type": "stream",
     "text": [
      "/tmp/ipykernel_1291/920153556.py:12: SettingWithCopyWarning: \n",
      "A value is trying to be set on a copy of a slice from a DataFrame.\n",
      "Try using .loc[row_indexer,col_indexer] = value instead\n",
      "\n",
      "See the caveats in the documentation: https://pandas.pydata.org/pandas-docs/stable/user_guide/indexing.html#returning-a-view-versus-a-copy\n",
      "  new_images.loc[new_images['filename']==row.filename, 'full_text'] = text_file_path\n"
     ]
    }
   ],
   "source": [
    "path_to_dataset = f\"{data_path}/processed/processed_dataset.csv\"\n",
    "raw_dataset = pd.read_csv(f\"{data_path}dataset.csv\")\n",
    "processed_dataset = get_processed_dataset(path_to_dataset)\n",
    "\n",
    "new_images = get_new_images_to_ocerize(raw_dataset, processed_dataset)\n",
    "\n",
    "for _, row in new_images.head(10).iterrows():                                               # TODO : Attention j'ai mis head(10) pour tester, à enlever\n",
    "    full_text = get_full_text(f\"{data_path}raw/final/{row.filename}\")\n",
    "\n",
    "    text_file_path = f\"{data_path}/processed/{row.filename}.txt\"\n",
    "    save_text_to_file(full_text, text_file_path)\n",
    "    new_images.loc[new_images['filename']==row.filename, 'full_text'] = text_file_path \n",
    "\n",
    "processed_dataset = pd.concat([processed_dataset, new_images.head(10)],ignore_index=True)   # TODO : Attention j'ai mis head(10) pour tester, à enlever\n",
    "processed_dataset.to_csv(path_to_dataset, index=None)"
   ]
  },
  {
   "cell_type": "code",
   "execution_count": 10,
   "metadata": {},
   "outputs": [
    {
     "name": "stdout",
     "output_type": "stream",
     "text": [
      "<Response [200]>\n"
     ]
    }
   ],
   "source": [
    "result = get_full_text(test_image_path)\n",
    "print(result)"
   ]
  },
  {
   "cell_type": "code",
   "execution_count": null,
   "metadata": {},
   "outputs": [],
   "source": [
    "# save text to csv"
   ]
  },
  {
   "cell_type": "code",
   "execution_count": 7,
   "metadata": {},
   "outputs": [],
   "source": [
    "clean_url = \"http://localhost:8903/clean\" # url du cleaner/tokenizer\n",
    "def get_cleaned_text(text) -> str:\n",
    "    print(clean_url)\n",
    "    headers = {'Content-Type': 'text/plain'}\n",
    "    params = {\n",
    "        \"text\": text\n",
    "    }\n",
    "    response = requests.post(clean_url, params=params, headers=headers)\n",
    "    return response"
   ]
  },
  {
   "cell_type": "code",
   "execution_count": 71,
   "metadata": {},
   "outputs": [
    {
     "name": "stdout",
     "output_type": "stream",
     "text": [
      "http://localhost:8903/clean\n"
     ]
    },
    {
     "data": {
      "text/plain": [
       "\"factur logo vendeur entreprise 22 avenue voltair 13000 marseill michel acheteur 31 rue forêt 13100 alx-en-provenc client date facturation numéro facture échéance paiemer 30 jour référence 1436 2.6.2021 143 16.6.2021 information additionnalle service vente garantie an description main - oeuvre produire quantité 10 unité pc prix unitaire ht tva total ttc 00,00 105,00 20 210,00 300,00 260,00 350,00 270,00 620,00 voitare marselll '' siren siret 24567 intrer frxx 999999999 onordtinnnéer pieme fomiseer telephone 99 e-mall pemegmacompagnien wwww macompagnie com petalle bancairen anbueg ban bic sur swi np pariba fr23 4112 4098 23 00hcs\""
      ]
     },
     "execution_count": 71,
     "metadata": {},
     "output_type": "execute_result"
    }
   ],
   "source": [
    "get_cleaned_text(result.text).text"
   ]
  },
  {
   "cell_type": "code",
   "execution_count": 60,
   "metadata": {},
   "outputs": [
    {
     "name": "stdout",
     "output_type": "stream",
     "text": [
      "http://localhost:8903/clean\n"
     ]
    }
   ],
   "source": [
    "print(clean_url)"
   ]
  },
  {
   "cell_type": "code",
   "execution_count": null,
   "metadata": {},
   "outputs": [],
   "source": []
  }
 ],
 "metadata": {
  "kernelspec": {
   "display_name": "env_mlops",
   "language": "python",
   "name": "python3"
  },
  "language_info": {
   "codemirror_mode": {
    "name": "ipython",
    "version": 3
   },
   "file_extension": ".py",
   "mimetype": "text/x-python",
   "name": "python",
   "nbconvert_exporter": "python",
   "pygments_lexer": "ipython3",
   "version": "3.11.10"
  }
 },
 "nbformat": 4,
 "nbformat_minor": 2
}
