{
 "cells": [
  {
   "metadata": {},
   "cell_type": "markdown",
   "source": [
    "# debug production\n",
    "Mise en production des containers"
   ],
   "id": "d699b3c73f47483e"
  },
  {
   "metadata": {},
   "cell_type": "markdown",
   "source": [
    "## création d'un réseau commun en local\n",
    "```sh\n",
    "docker network create sake\n",
    "```"
   ],
   "id": "dbc9195e1183d4f7"
  },
  {
   "metadata": {},
   "cell_type": "markdown",
   "source": [
    "## API Gateway\n",
    "```sh\n",
    "docker run -d --name gateway --network sake -p 9080:80 sake-gateway\n",
    "```"
   ],
   "id": "1aa366b5f48b5784"
  },
  {
   "metadata": {},
   "cell_type": "markdown",
   "source": "",
   "id": "a5fa88ceba0af8e7"
  }
 ],
 "metadata": {
  "kernelspec": {
   "display_name": "Python 3",
   "language": "python",
   "name": "python3"
  },
  "language_info": {
   "codemirror_mode": {
    "name": "ipython",
    "version": 2
   },
   "file_extension": ".py",
   "mimetype": "text/x-python",
   "name": "python",
   "nbconvert_exporter": "python",
   "pygments_lexer": "ipython2",
   "version": "2.7.6"
  }
 },
 "nbformat": 4,
 "nbformat_minor": 5
}
