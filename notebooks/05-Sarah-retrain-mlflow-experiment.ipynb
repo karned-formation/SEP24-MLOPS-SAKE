{
 "cells": [
  {
   "cell_type": "markdown",
   "metadata": {},
   "source": [
    "### Réentrainement à partir d'un run MLFLOW\n",
    "L'objectif de ce notebook est de voir comment :\n",
    "1. récupérer un run mlflow\n",
    "2. retourner au commit dvc correspondant à ce run\n",
    "3. relancer l'entrainement"
   ]
  },
  {
   "cell_type": "code",
   "execution_count": 1,
   "metadata": {},
   "outputs": [
    {
     "data": {
      "text/html": [
       "<pre style=\"white-space:pre;overflow-x:auto;line-height:normal;font-family:Menlo,'DejaVu Sans Mono',consolas,'Courier New',monospace\">Accessing as Belwen\n",
       "</pre>\n"
      ],
      "text/plain": [
       "Accessing as Belwen\n"
      ]
     },
     "metadata": {},
     "output_type": "display_data"
    },
    {
     "data": {
      "text/html": [
       "<pre style=\"white-space:pre;overflow-x:auto;line-height:normal;font-family:Menlo,'DejaVu Sans Mono',consolas,'Courier New',monospace\">Initialized MLflow to track repo <span style=\"color: #008000; text-decoration-color: #008000\">\"Belwen/SEP24-MLOPS-SAKE\"</span>\n",
       "</pre>\n"
      ],
      "text/plain": [
       "Initialized MLflow to track repo \u001b[32m\"Belwen/SEP24-MLOPS-SAKE\"\u001b[0m\n"
      ]
     },
     "metadata": {},
     "output_type": "display_data"
    },
    {
     "data": {
      "text/html": [
       "<pre style=\"white-space:pre;overflow-x:auto;line-height:normal;font-family:Menlo,'DejaVu Sans Mono',consolas,'Courier New',monospace\">Repository Belwen/SEP24-MLOPS-SAKE initialized!\n",
       "</pre>\n"
      ],
      "text/plain": [
       "Repository Belwen/SEP24-MLOPS-SAKE initialized!\n"
      ]
     },
     "metadata": {},
     "output_type": "display_data"
    }
   ],
   "source": [
    "import dagshub\n",
    "import mlflow\n",
    "from mlflow.tracking import MlflowClient\n",
    "import subprocess\n",
    "import json\n",
    "dagshub.init(repo_owner='Belwen', repo_name='SEP24-MLOPS-SAKE', mlflow=True)"
   ]
  },
  {
   "cell_type": "code",
   "execution_count": 7,
   "metadata": {},
   "outputs": [],
   "source": [
    "\n",
    "import os\n",
    "from dvc.repo import Repo\n",
    "from dvc.exceptions import DvcException\n",
    "\n",
    "def get_dvc_commit_hash():\n",
    "    \"\"\"\n",
    "    Get the current DVC commit hash from the repository.\n",
    "    \n",
    "    Returns:\n",
    "        str: The current DVC commit hash\n",
    "        \n",
    "    Raises:\n",
    "        DvcException: If there's an error accessing the DVC repository\n",
    "        ValueError: If not in a DVC repository\n",
    "    \"\"\"\n",
    "    try:\n",
    "        # Initialize DVC repo object\n",
    "        repo = Repo(\".\")\n",
    "        \n",
    "        # Get the current commit hash\n",
    "        commit_hash = repo.scm.get_rev()\n",
    "        \n",
    "        return commit_hash\n",
    "        \n",
    "    except DvcException as e:\n",
    "        raise DvcException(f\"Error accessing DVC repository: {str(e)}\")\n",
    "    except Exception as e:\n",
    "        raise ValueError(f\"Not in a DVC repository or other error occurred: {str(e)}\")\n",
    "\n",
    "def get_dvc_commit_from_mlflow_run(run_id):\n",
    "    \"\"\"\n",
    "    Récupère le commit DVC associé à un run MLflow spécifique.\n",
    "    \n",
    "    Args:\n",
    "        run_id (str): L'ID du run MLflow\n",
    "    \n",
    "    Returns:\n",
    "        str: Le hash du commit DVC\n",
    "    \"\"\"\n",
    "    client = MlflowClient()\n",
    "    run = client.get_run(run_id)\n",
    "    \n",
    "    # Récupérer le hash DVC des tags MLflow\n",
    "    dvc_commit = run.data.tags.get('dvc_commit')\n",
    "    if not dvc_commit:\n",
    "        raise ValueError(\"Aucun commit DVC trouvé pour ce run MLflow\")\n",
    "    \n",
    "    return dvc_commit\n",
    "\n",
    "def checkout_dvc_commit(dvc_commit):\n",
    "    \"\"\"\n",
    "    Checkout l'état DVC spécifique.\n",
    "    \n",
    "    Args:\n",
    "        dvc_commit (str): Le hash du commit DVC\n",
    "    \"\"\"\n",
    "    # Checkout du commit DVC\n",
    "    subprocess.run(['dvc', 'checkout', dvc_commit], check=True)\n",
    "\n",
    "def reproduce_mlflow_experiment(run_id):\n",
    "    \"\"\"\n",
    "    Reproduit un experiment MLflow en restaurant l'état DVC correspondant.\n",
    "    \n",
    "    Args:\n",
    "        run_id (str): L'ID du run MLflow à reproduire\n",
    "    \"\"\"\n",
    "    # 1. Récupérer le commit DVC\n",
    "    dvc_commit = get_dvc_commit_from_mlflow_run(run_id)\n",
    "    \n",
    "    # 2. Restaurer l'état DVC\n",
    "    checkout_dvc_commit(dvc_commit)\n",
    "    \n",
    "    # 3. Récupérer les paramètres du run original\n",
    "    client = MlflowClient()\n",
    "    original_run = client.get_run(run_id)\n",
    "    params = original_run.data.params\n",
    "    \n",
    "    # 4. Relancer l'expérience à partir du preprocessing\n",
    "    subprocess.run(['dvc', 'repro preprocessing'], check=True)\n",
    "\n"
   ]
  },
  {
   "cell_type": "code",
   "execution_count": 11,
   "metadata": {},
   "outputs": [
    {
     "data": {
      "text/plain": [
       "'0a6823f6bd16cb89c39a675b16f5fdc490c7c65e'"
      ]
     },
     "execution_count": 11,
     "metadata": {},
     "output_type": "execute_result"
    }
   ],
   "source": [
    "get_dvc_commit_hash()"
   ]
  },
  {
   "cell_type": "code",
   "execution_count": null,
   "metadata": {},
   "outputs": [],
   "source": []
  }
 ],
 "metadata": {
  "kernelspec": {
   "display_name": ".venv",
   "language": "python",
   "name": "python3"
  },
  "language_info": {
   "codemirror_mode": {
    "name": "ipython",
    "version": 3
   },
   "file_extension": ".py",
   "mimetype": "text/x-python",
   "name": "python",
   "nbconvert_exporter": "python",
   "pygments_lexer": "ipython3",
   "version": "3.11.3"
  }
 },
 "nbformat": 4,
 "nbformat_minor": 2
}
